{
  "nbformat": 4,
  "nbformat_minor": 0,
  "metadata": {
    "colab": {
      "name": "Aula Prática de Python.ipynb",
      "provenance": [],
      "authorship_tag": "ABX9TyOYsdbSwT9N1o9El9VZcWPL",
      "include_colab_link": true
    },
    "kernelspec": {
      "name": "python3",
      "display_name": "Python 3"
    },
    "language_info": {
      "name": "python"
    }
  },
  "cells": [
    {
      "cell_type": "markdown",
      "metadata": {
        "id": "view-in-github",
        "colab_type": "text"
      },
      "source": [
        "<a href=\"https://colab.research.google.com/github/faribeiro/faribeiro/blob/main/Aula_Pr%C3%A1tica_de_Python.ipynb\" target=\"_parent\"><img src=\"https://colab.research.google.com/assets/colab-badge.svg\" alt=\"Open In Colab\"/></a>"
      ]
    },
    {
      "cell_type": "code",
      "source": [
        "#Imprimindo a minha primeira frase em Python\n",
        "print('meu primeiro programa em Python')"
      ],
      "metadata": {
        "colab": {
          "base_uri": "https://localhost:8080/"
        },
        "id": "66BrFEfRWhIi",
        "outputId": "a1deb602-1a2c-4a9a-ecd1-79925728940a"
      },
      "execution_count": null,
      "outputs": [
        {
          "output_type": "stream",
          "name": "stdout",
          "text": [
            "meu primeiro programa em Python\n"
          ]
        }
      ]
    },
    {
      "cell_type": "code",
      "source": [
        "#atribuindo um valor a uma variável\n",
        "a = 2\n",
        "b = 4"
      ],
      "metadata": {
        "id": "ICE6ziewVXQS"
      },
      "execution_count": null,
      "outputs": []
    },
    {
      "cell_type": "code",
      "source": [
        "#manipulando variáveis com cálculo de soma\n",
        "soma = a + b"
      ],
      "metadata": {
        "id": "PP0kPz1EV3XS"
      },
      "execution_count": null,
      "outputs": []
    },
    {
      "cell_type": "code",
      "source": [
        "#imprimindo valor da variável\n",
        "print(soma)"
      ],
      "metadata": {
        "colab": {
          "base_uri": "https://localhost:8080/"
        },
        "id": "pqnY5l2TWBVC",
        "outputId": "cacda098-bf56-4825-94ca-52ac01940a40"
      },
      "execution_count": null,
      "outputs": [
        {
          "output_type": "stream",
          "name": "stdout",
          "text": [
            "6\n"
          ]
        }
      ]
    },
    {
      "cell_type": "code",
      "source": [
        "#diferenças entre os tipos de variáveis\n",
        "a = '10'\n",
        "b = '19'"
      ],
      "metadata": {
        "id": "1SbX7Q5GXPU6"
      },
      "execution_count": null,
      "outputs": []
    },
    {
      "cell_type": "code",
      "source": [
        "#tentar somar variáveis\n",
        "soma2 = a + b\n",
        "print(soma2)"
      ],
      "metadata": {
        "colab": {
          "base_uri": "https://localhost:8080/"
        },
        "id": "JEThtOxWXX7G",
        "outputId": "39d15a7a-be73-481f-add8-a2dcaa0a2a3e"
      },
      "execution_count": null,
      "outputs": [
        {
          "output_type": "stream",
          "name": "stdout",
          "text": [
            "1019\n"
          ]
        }
      ]
    },
    {
      "cell_type": "code",
      "source": [
        "#somando strings\n",
        "a = 'ab'\n",
        "b = 'cd'\n",
        "soma3 = a + b\n",
        "print(soma3)"
      ],
      "metadata": {
        "colab": {
          "base_uri": "https://localhost:8080/"
        },
        "id": "BvdPdQHjXuG7",
        "outputId": "c28f0ba8-c648-4d7d-9768-4d5021e394e2"
      },
      "execution_count": null,
      "outputs": [
        {
          "output_type": "stream",
          "name": "stdout",
          "text": [
            "abcd\n"
          ]
        }
      ]
    },
    {
      "cell_type": "code",
      "source": [
        "#operações aritméticas\n",
        "a = 10\n",
        "b = 5\n",
        "soma = a + b\n",
        "subtracao = a - b\n",
        "multiplicacao = a * b\n",
        "divisao = a / b \n",
        "\n",
        "print(soma)\n",
        "print(subtracao)\n",
        "print(multiplicacao)\n",
        "print(divisao)"
      ],
      "metadata": {
        "colab": {
          "base_uri": "https://localhost:8080/"
        },
        "id": "9-5tXVbtYmxa",
        "outputId": "283ce057-d0aa-4054-9cc3-456a67652d9a"
      },
      "execution_count": 1,
      "outputs": [
        {
          "output_type": "stream",
          "name": "stdout",
          "text": [
            "15\n",
            "5\n",
            "50\n",
            "2.0\n"
          ]
        }
      ]
    },
    {
      "cell_type": "code",
      "source": [
        "#descobrindo o tipo de variável\n",
        "type(soma)\n"
      ],
      "metadata": {
        "colab": {
          "base_uri": "https://localhost:8080/"
        },
        "id": "04mZgOUNYndq",
        "outputId": "7a1590ea-ad24-4e67-b944-87f06186b8e0"
      },
      "execution_count": 2,
      "outputs": [
        {
          "output_type": "execute_result",
          "data": {
            "text/plain": [
              "int"
            ]
          },
          "metadata": {},
          "execution_count": 2
        }
      ]
    },
    {
      "cell_type": "code",
      "source": [
        "type(divisao)"
      ],
      "metadata": {
        "colab": {
          "base_uri": "https://localhost:8080/"
        },
        "id": "ayNtiAGEYnpv",
        "outputId": "acd0ee36-75a7-4350-d1c2-5e23bc7fd548"
      },
      "execution_count": 3,
      "outputs": [
        {
          "output_type": "execute_result",
          "data": {
            "text/plain": [
              "float"
            ]
          },
          "metadata": {},
          "execution_count": 3
        }
      ]
    },
    {
      "cell_type": "code",
      "source": [
        "#conversão de um tipo inteiro para um tipo real\n",
        "float(soma)"
      ],
      "metadata": {
        "colab": {
          "base_uri": "https://localhost:8080/"
        },
        "id": "Pw6lZAAZYnyp",
        "outputId": "d01409ac-bcbe-4f7e-d0ca-3e9021a94a66"
      },
      "execution_count": 4,
      "outputs": [
        {
          "output_type": "execute_result",
          "data": {
            "text/plain": [
              "15.0"
            ]
          },
          "metadata": {},
          "execution_count": 4
        }
      ]
    },
    {
      "cell_type": "code",
      "source": [
        "#conversão de um tipo fracionário para um tipo inteiro\n",
        "int(divisao)"
      ],
      "metadata": {
        "colab": {
          "base_uri": "https://localhost:8080/"
        },
        "id": "p8jfjUhuYoOG",
        "outputId": "d4ba4f6e-418a-42bc-fac3-973ea3d8c3fc"
      },
      "execution_count": 5,
      "outputs": [
        {
          "output_type": "execute_result",
          "data": {
            "text/plain": [
              "2"
            ]
          },
          "metadata": {},
          "execution_count": 5
        }
      ]
    },
    {
      "cell_type": "code",
      "source": [
        "#operação de comparação - teste booleano - Verdadeiro ou Falso\n",
        "x = 20\n",
        "y = 30\n",
        "print(bool(x>y))"
      ],
      "metadata": {
        "colab": {
          "base_uri": "https://localhost:8080/"
        },
        "id": "eRw7WEsCZ18z",
        "outputId": "7fd75c1a-5229-44ee-d2d6-c4fb2c7c05d2"
      },
      "execution_count": 6,
      "outputs": [
        {
          "output_type": "stream",
          "name": "stdout",
          "text": [
            "False\n"
          ]
        }
      ]
    },
    {
      "cell_type": "code",
      "source": [
        "#operação de comparação - teste de igualdade\n",
        "x = 30\n",
        "y = 30\n",
        "print(bool(x == y))"
      ],
      "metadata": {
        "colab": {
          "base_uri": "https://localhost:8080/"
        },
        "id": "2WWBNJ6YZ2G8",
        "outputId": "2f27ad36-ceba-4b3c-959a-8d54e91c2489"
      },
      "execution_count": 7,
      "outputs": [
        {
          "output_type": "stream",
          "name": "stdout",
          "text": [
            "True\n"
          ]
        }
      ]
    },
    {
      "cell_type": "code",
      "source": [
        "#operação de comparação - maior ou igual\n",
        "x = 30\n",
        "y = 30\n",
        "z = 40\n",
        "print(bool(x == y >= z))"
      ],
      "metadata": {
        "colab": {
          "base_uri": "https://localhost:8080/"
        },
        "id": "JqQh5PD4Z2Pt",
        "outputId": "9c4415a6-911f-494f-90f8-9efd174ffe36"
      },
      "execution_count": 8,
      "outputs": [
        {
          "output_type": "stream",
          "name": "stdout",
          "text": [
            "False\n"
          ]
        }
      ]
    },
    {
      "cell_type": "code",
      "source": [
        "#definindo uma função\n",
        "def say_hello():\n",
        "  print('Hello!')"
      ],
      "metadata": {
        "id": "6eQf9L01Z2YZ"
      },
      "execution_count": 10,
      "outputs": []
    },
    {
      "cell_type": "code",
      "source": [
        "#chamando a função\n",
        "say_hello()"
      ],
      "metadata": {
        "colab": {
          "base_uri": "https://localhost:8080/"
        },
        "id": "ZBSggMr9byud",
        "outputId": "2fbbe2f4-4af5-4969-cde1-269c1a5d2704"
      },
      "execution_count": 11,
      "outputs": [
        {
          "output_type": "stream",
          "name": "stdout",
          "text": [
            "Hello!\n"
          ]
        }
      ]
    },
    {
      "cell_type": "code",
      "source": [
        "#definindo outra função\n",
        "def soma_ab():\n",
        "  print(a+b)"
      ],
      "metadata": {
        "id": "30mEo3BGby2Q"
      },
      "execution_count": 12,
      "outputs": []
    },
    {
      "cell_type": "code",
      "source": [
        "#chamar a outra função\n",
        "a = 10\n",
        "b = 30\n",
        "soma_ab()"
      ],
      "metadata": {
        "colab": {
          "base_uri": "https://localhost:8080/"
        },
        "id": "KHTqCWYMby9J",
        "outputId": "487dbd8f-ed76-42cc-c5c7-c06afe74f9ba"
      },
      "execution_count": 13,
      "outputs": [
        {
          "output_type": "stream",
          "name": "stdout",
          "text": [
            "40\n"
          ]
        }
      ]
    },
    {
      "cell_type": "code",
      "source": [
        "#criando uma função com execução\n",
        "def fn(x):\n",
        "  x.append(1)"
      ],
      "metadata": {
        "id": "fNQVYXeJbzGz"
      },
      "execution_count": 19,
      "outputs": []
    },
    {
      "cell_type": "code",
      "source": [
        "#criar uma lista e executar a função\n",
        "a = [1, 2, 3]\n",
        "fn(a)\n",
        "print(a)"
      ],
      "metadata": {
        "colab": {
          "base_uri": "https://localhost:8080/"
        },
        "id": "2ScRW6xYbz7z",
        "outputId": "ee45f713-ad1d-4339-c3c8-2d6b79f930a4"
      },
      "execution_count": 18,
      "outputs": [
        {
          "output_type": "stream",
          "name": "stdout",
          "text": [
            "[1, 2, 3, 4]\n"
          ]
        }
      ]
    },
    {
      "cell_type": "code",
      "source": [
        "#usando uma condição >> if\n",
        "tv = [0]\n",
        "fn(tv)\n",
        "\n",
        "if tv == [0,1]:\n",
        "  print('A TV está ligada')\n",
        "\n",
        "else:\n",
        "    print('A TV está desligada')"
      ],
      "metadata": {
        "colab": {
          "base_uri": "https://localhost:8080/"
        },
        "id": "1zRTyVQAc3L9",
        "outputId": "1373f1b6-772f-4664-f00a-7ae3dbe8a083"
      },
      "execution_count": 21,
      "outputs": [
        {
          "output_type": "stream",
          "name": "stdout",
          "text": [
            "A TV está ligada\n"
          ]
        }
      ]
    },
    {
      "cell_type": "code",
      "source": [
        "#Abrindo o arquivo\n",
        "open('EXEMPLO.txt')"
      ],
      "metadata": {
        "colab": {
          "base_uri": "https://localhost:8080/"
        },
        "id": "utJWb4mofIjJ",
        "outputId": "2d5721dc-8717-48d3-eec2-12da2d5c363c"
      },
      "execution_count": 25,
      "outputs": [
        {
          "output_type": "execute_result",
          "data": {
            "text/plain": [
              "<_io.TextIOWrapper name='EXEMPLO.txt' mode='r' encoding='UTF-8'>"
            ]
          },
          "metadata": {},
          "execution_count": 25
        }
      ]
    },
    {
      "cell_type": "code",
      "source": [
        "#Lendo as linhas do arquivo\n",
        "arquivo = open('EXEMPLO.txt')\n",
        "for linha in arquivo:\n",
        "  print(linha)"
      ],
      "metadata": {
        "colab": {
          "base_uri": "https://localhost:8080/"
        },
        "id": "pV-mjM1LgHTK",
        "outputId": "87707de9-f950-4561-b566-f89aa4adaba5"
      },
      "execution_count": 26,
      "outputs": [
        {
          "output_type": "stream",
          "name": "stdout",
          "text": [
            "ESTA É A LINHA 1\n",
            "\n",
            "ESTA É A LINHA 2\n",
            "\n",
            "ESTA É A LINHA 3\n",
            "\n",
            "ESTA É A LINHA 4\n",
            "\n",
            "ESTA É A LINHA 5\n",
            "\n",
            "ESTA É A LINHA 6\n",
            "\n",
            "ESTA É A LINHA 7\n",
            "\n",
            "ESTA É A LINHA 8\n",
            "\n",
            "ESTA É A LINHA 9\n",
            "\n",
            "ESTA É A LINHA 10\n"
          ]
        }
      ]
    }
  ]
}